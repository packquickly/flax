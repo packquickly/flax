{
 "cells": [
  {
   "cell_type": "markdown",
   "metadata": {},
   "source": [
    "# Why NNX?"
   ]
  },
  {
   "cell_type": "markdown",
   "metadata": {},
   "source": [
    "## Intro\n",
    "* Flax strengths\n",
    "* Flax weaknesses"
   ]
  },
  {
   "cell_type": "code",
   "execution_count": null,
   "metadata": {},
   "outputs": [],
   "source": []
  },
  {
   "cell_type": "markdown",
   "metadata": {},
   "source": [
    "\n",
    "## NNX is Pythonic\n",
    "* Example of building a Module"
   ]
  },
  {
   "cell_type": "code",
   "execution_count": 2,
   "metadata": {},
   "outputs": [
    {
     "name": "stderr",
     "output_type": "stream",
     "text": [
      "No GPU/TPU found, falling back to CPU. (Set TF_CPP_MIN_LOG_LEVEL=0 and rerun for more info.)\n"
     ]
    }
   ],
   "source": [
    "from flax.experimental import nnx\n",
    "import jax\n",
    "import jax.numpy as jnp\n",
    "\n",
    "class Count(nnx.Variable): pass\n",
    "\n",
    "class Linear(nnx.Module):\n",
    "    def __init__(self, din: int, dout: int, *, ctx: nnx.Context):\n",
    "        self.din = din\n",
    "        self.dout = dout\n",
    "        key = ctx.make_rng(\"params\")\n",
    "        self.w = nnx.Param(jax.random.uniform(key, (din, dout)))\n",
    "        self.b = nnx.Param(jnp.zeros((dout,)))\n",
    "        self.count = Count(0)  # track the number of calls\n",
    "\n",
    "    def __call__(self, x) -> jax.Array:\n",
    "        self.count += 1\n",
    "        return x @ self.w + self.b\n",
    "\n",
    "model = Linear(din=5, dout=2, ctx=nnx.context(0))"
   ]
  },
  {
   "cell_type": "code",
   "execution_count": 3,
   "metadata": {},
   "outputs": [
    {
     "name": "stdout",
     "output_type": "stream",
     "text": [
      "model.count=1\n",
      "model.w=Array([[0.0779959 , 0.8061936 ],\n",
      "       [0.05617034, 0.55959475],\n",
      "       [0.3948189 , 0.5856023 ],\n",
      "       [0.82162833, 0.27394366],\n",
      "       [0.07696676, 0.8982161 ]], dtype=float32)\n",
      "model.b=Array([0., 0.], dtype=float32)\n",
      "model=Linear(\n",
      "  din=5,\n",
      "  dout=2\n",
      ")\n"
     ]
    }
   ],
   "source": [
    "x = jnp.ones((1, 5))\n",
    "y = model(x)\n",
    "\n",
    "print(f\"{model.count=}\")\n",
    "print(f\"{model.w=}\")\n",
    "print(f\"{model.b=}\")\n",
    "print(f\"{model=}\")"
   ]
  },
  {
   "cell_type": "markdown",
   "metadata": {},
   "source": [
    "\n",
    "\n",
    "## NNX is friendly for beginners\n",
    "* Example of training in eager mode\n"
   ]
  },
  {
   "cell_type": "code",
   "execution_count": 6,
   "metadata": {},
   "outputs": [
    {
     "name": "stdout",
     "output_type": "stream",
     "text": [
      "Step 0: loss=0.2734\n",
      "Step 100: loss=0.0108\n",
      "Step 200: loss=0.0105\n",
      "Step 300: loss=0.0105\n",
      "Step 400: loss=0.0107\n",
      "\n",
      "model.w = Array([[0.8045632]], dtype=float32)\n",
      "model.b = Array([0.39513135], dtype=float32)\n"
     ]
    }
   ],
   "source": [
    "import numpy as np\n",
    "\n",
    "X = np.random.uniform(size=(1000, 1))\n",
    "Y = 0.8 * X + 0.4 + np.random.normal(scale=0.1, size=(1000, 1)) \n",
    "\n",
    "model = Linear(1, 1, ctx=nnx.context(0))\n",
    "\n",
    "for step in range(500):\n",
    "    idx = np.random.randint(0, 1000, size=(32,))\n",
    "    x, y = X[idx], Y[idx]\n",
    "\n",
    "    def loss_fn(model: Linear):\n",
    "        y_pred = model(x)\n",
    "        return jnp.mean((y_pred - y) ** 2)\n",
    "\n",
    "    loss, grads = nnx.value_and_grad(loss_fn, wrt=nnx.Param)(model)\n",
    "\n",
    "    params = model.filter(nnx.Param)\n",
    "    params = jax.tree_map(\n",
    "        lambda p, g: p - 0.1 * g, params, grads\n",
    "    )\n",
    "    model.update_state(params)\n",
    "\n",
    "    if step % 100 == 0:\n",
    "        y_pred = model(X)\n",
    "        loss = np.mean((y_pred - Y) ** 2)\n",
    "        print(f\"Step {step}: loss={loss:.4f}\")\n",
    "\n",
    "print(f\"\\n{model.w = }\")\n",
    "print(f\"{model.b = }\")"
   ]
  },
  {
   "cell_type": "markdown",
   "metadata": {},
   "source": [
    "\n",
    "## NNX is friendly for advanced users\n",
    "* Example of manual scan over layer \n"
   ]
  },
  {
   "cell_type": "code",
   "execution_count": null,
   "metadata": {},
   "outputs": [],
   "source": []
  },
  {
   "cell_type": "markdown",
   "metadata": {},
   "source": [
    "\n",
    "## Parameter surgery is intuitive\n",
    "* Simple parameter surgery example\n",
    "\n",
    "## \n",
    "\n"
   ]
  },
  {
   "cell_type": "code",
   "execution_count": null,
   "metadata": {},
   "outputs": [],
   "source": []
  },
  {
   "cell_type": "markdown",
   "metadata": {},
   "source": [
    "## What about Pytree-based libraries?"
   ]
  }
 ],
 "metadata": {
  "kernelspec": {
   "display_name": ".venv",
   "language": "python",
   "name": "python3"
  },
  "language_info": {
   "codemirror_mode": {
    "name": "ipython",
    "version": 3
   },
   "file_extension": ".py",
   "mimetype": "text/x-python",
   "name": "python",
   "nbconvert_exporter": "python",
   "pygments_lexer": "ipython3",
   "version": "3.9.16"
  },
  "orig_nbformat": 4
 },
 "nbformat": 4,
 "nbformat_minor": 2
}
